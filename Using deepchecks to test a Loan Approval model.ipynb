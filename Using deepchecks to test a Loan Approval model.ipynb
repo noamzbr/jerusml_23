{
 "cells": [
  {
   "cell_type": "markdown",
   "id": "ae5fd279",
   "metadata": {},
   "source": [
    "# Predicting Loan Defaults (Classification)"
   ]
  },
  {
   "cell_type": "markdown",
   "id": "4e210436",
   "metadata": {},
   "source": [
    "In this Demo we are using an adaptation of the Lending Club loan data\n",
    "<https://www.kaggle.com/datasets/wordsforthewise/lending-club> dataset to show how you can use deepchecks to\n",
    "identify issues in a Loan Default prediction task.\n",
    "\n",
    "You are a Data Scientist in a renowned bank, and you are tasked with identifying customers that are\n",
    "likely to default on their mortgage loan. We'll use deepchecks to quickly detect some data integrity\n",
    "issues that occur over the lifetime of the model, and we'll see how deepchecks can alert us about potential model\n",
    "deterioration that can be caused by increasing interest rates, even while labels are not yet available."
   ]
  },
  {
   "cell_type": "markdown",
   "id": "4b08bf45",
   "metadata": {},
   "source": [
    "## Loading the data and model"
   ]
  },
  {
   "cell_type": "markdown",
   "id": "4df49b78",
   "metadata": {},
   "source": [
    "Some information about the dataset"
   ]
  },
  {
   "cell_type": "code",
   "execution_count": 4,
   "id": "be021a7e",
   "metadata": {},
   "outputs": [],
   "source": [
    "features = ['sub_grade', 'term', 'home_ownership', 'fico_range_low',\n",
    "            'total_acc', 'pub_rec', 'revol_util', 'annual_inc', 'int_rate', 'dti',\n",
    "            'purpose', 'mort_acc', 'loan_amnt', 'application_type', 'installment',\n",
    "            'verification_status', 'pub_rec_bankruptcies', 'addr_state',\n",
    "            'initial_list_status', 'fico_range_high', 'revol_bal', 'open_acc',\n",
    "            'emp_length', 'time_to_earliest_cr_line']\n",
    "cat_features = ['sub_grade', 'home_ownership', 'term', 'purpose', 'application_type', 'verification_status', 'addr_state',\n",
    "                'initial_list_status']\n",
    "index_name = 'id'\n",
    "label_name = 'loan_status'\n",
    "datetime_name = 'issue_d'"
   ]
  },
  {
   "cell_type": "markdown",
   "id": "75b6355b",
   "metadata": {},
   "source": [
    "Load the data"
   ]
  },
  {
   "cell_type": "code",
   "execution_count": 5,
   "id": "8e999674",
   "metadata": {},
   "outputs": [],
   "source": [
    "import pandas as pd\n",
    "train_df = pd.read_csv('https://figshare.com/ndownloader/files/39316160')\n",
    "train_df.head(2)\n",
    "\n",
    "prod_df = pd.read_csv('https://figshare.com/ndownloader/files/39316157', parse_dates=['issue_d'])"
   ]
  },
  {
   "cell_type": "markdown",
   "id": "abfc067f",
   "metadata": {},
   "source": [
    "Load the model"
   ]
  },
  {
   "cell_type": "code",
   "execution_count": 3,
   "id": "a572912f",
   "metadata": {},
   "outputs": [],
   "source": [
    "import joblib\n",
    "from urllib.request import urlopen\n",
    "with urlopen('https://figshare.com/ndownloader/files/39316172') as f:\n",
    "    model = joblib.load(f)"
   ]
  },
  {
   "cell_type": "markdown",
   "id": "037c784f",
   "metadata": {},
   "source": [
    "## Using deepchecks "
   ]
  },
  {
   "cell_type": "code",
   "execution_count": null,
   "id": "29946e85",
   "metadata": {},
   "outputs": [],
   "source": [
    "from deepchecks.tabular import Dataset\n",
    "from deepchecks.tabular.suites import train_test_validation"
   ]
  },
  {
   "cell_type": "markdown",
   "id": "b3acb7a7",
   "metadata": {},
   "source": [
    "What are you waiting for? :)"
   ]
  },
  {
   "cell_type": "code",
   "execution_count": null,
   "id": "f30e4554",
   "metadata": {},
   "outputs": [],
   "source": []
  }
 ],
 "metadata": {
  "kernelspec": {
   "display_name": "Python 3 (ipykernel)",
   "language": "python",
   "name": "python3"
  },
  "language_info": {
   "codemirror_mode": {
    "name": "ipython",
    "version": 3
   },
   "file_extension": ".py",
   "mimetype": "text/x-python",
   "name": "python",
   "nbconvert_exporter": "python",
   "pygments_lexer": "ipython3",
   "version": "3.8.10"
  }
 },
 "nbformat": 4,
 "nbformat_minor": 5
}

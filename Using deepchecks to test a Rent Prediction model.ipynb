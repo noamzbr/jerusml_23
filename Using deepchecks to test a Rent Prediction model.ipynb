{
 "cells": [
  {
   "cell_type": "markdown",
   "id": "78e772ec",
   "metadata": {},
   "source": [
    "# Predicting Rent Prices (Regression)"
   ]
  },
  {
   "cell_type": "markdown",
   "id": "687d303f",
   "metadata": {},
   "source": [
    "In this Demo we are using an adaptation of the Airbnb rent regression dataset\n",
    "<https://www.kaggle.com/datasets/dgomonov/new-york-city-airbnb-open-data> to show how you can use deepchecks to identify issues in a Rent Prediction task."
   ]
  },
  {
   "cell_type": "markdown",
   "id": "4cf7a09e",
   "metadata": {},
   "source": [
    "You are a Data Scientist whose company has collected historical data on the apartments within New York\n",
    "city, and your goal is to accurately predict the actual rent for the property given its attributes and the community\n",
    "feedback. This estimation is then sold as an estimated price to the landlords, helping them correctly asses the value\n",
    "of their property.\n",
    "\n",
    "Recently, you have received word that some landlords in northern Manhattan are getting estimations from your platform\n",
    "that are way off the market price, and you are sent to investigate."
   ]
  },
  {
   "cell_type": "markdown",
   "id": "c65c2c2b",
   "metadata": {},
   "source": [
    "## Loading the dataset and model"
   ]
  },
  {
   "cell_type": "markdown",
   "id": "f1dc358c",
   "metadata": {},
   "source": [
    "Some information about the dataset"
   ]
  },
  {
   "cell_type": "code",
   "execution_count": 2,
   "id": "127ee4f9",
   "metadata": {},
   "outputs": [],
   "source": [
    "features=['room_type', 'neighbourhood', 'neighbourhood_group', 'has_availability', 'minimum_nights',\n",
    "              'number_of_reviews', 'reviews_per_month', 'calculated_host_listings_count', 'availability_365'],\n",
    "cat_features=['neighbourhood_group', 'neighbourhood', 'room_type', 'has_availability']\n",
    "label = 'price'\n",
    "date_column = 'datestamp'"
   ]
  },
  {
   "cell_type": "markdown",
   "id": "7c45c1f1",
   "metadata": {},
   "source": [
    "In this use-case, we have the predictions pre-calculated for us and we don't have access to the model.\n",
    "\n",
    "train_df is the data used to train the model, and prod_df is the production data accumulated across a certain time span."
   ]
  },
  {
   "cell_type": "code",
   "execution_count": 3,
   "id": "44a8453d",
   "metadata": {},
   "outputs": [],
   "source": [
    "from deepchecks.tabular.datasets.regression.airbnb import load_data_large\n",
    "\n",
    "train_df, ref_predictions = load_data_large(data_format='DataFrame')\n",
    "\n",
    "prod_df, prod_predictions = load_data_large(data_format='DataFrame', load_train=False)"
   ]
  },
  {
   "cell_type": "markdown",
   "id": "44379b4c",
   "metadata": {},
   "source": [
    "## Using deepchecks"
   ]
  },
  {
   "cell_type": "code",
   "execution_count": 4,
   "id": "6ff412d7",
   "metadata": {},
   "outputs": [],
   "source": [
    "from deepchecks.tabular import Dataset\n",
    "from deepchecks.tabular.suites import train_test_validation"
   ]
  },
  {
   "cell_type": "markdown",
   "id": "40986512",
   "metadata": {},
   "source": [
    "What are you waiting for? :)"
   ]
  },
  {
   "cell_type": "code",
   "execution_count": null,
   "id": "88105b0b",
   "metadata": {},
   "outputs": [],
   "source": []
  }
 ],
 "metadata": {
  "kernelspec": {
   "display_name": "Python 3 (ipykernel)",
   "language": "python",
   "name": "python3"
  },
  "language_info": {
   "codemirror_mode": {
    "name": "ipython",
    "version": 3
   },
   "file_extension": ".py",
   "mimetype": "text/x-python",
   "name": "python",
   "nbconvert_exporter": "python",
   "pygments_lexer": "ipython3",
   "version": "3.8.10"
  }
 },
 "nbformat": 4,
 "nbformat_minor": 5
}
